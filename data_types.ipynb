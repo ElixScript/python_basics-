{
 "cells": [
  {
   "cell_type": "code",
   "execution_count": 1,
   "id": "6254fb99-eb1e-4c24-a665-b8b9e9991914",
   "metadata": {},
   "outputs": [],
   "source": [
    "## belajar materi pertama \n",
    "\n",
    "x =2"
   ]
  },
  {
   "cell_type": "code",
   "execution_count": null,
   "id": "8547973d-e4b6-421c-ad8b-dfb953742920",
   "metadata": {},
   "outputs": [],
   "source": [
    "## disini kita mendeklarasikan variable dan memprint bilangan tersebut"
   ]
  },
  {
   "cell_type": "code",
   "execution_count": 3,
   "id": "c1ed6250-d9fc-488b-9de8-5a583cb089f2",
   "metadata": {},
   "outputs": [
    {
     "name": "stdout",
     "output_type": "stream",
     "text": [
      "2\n"
     ]
    }
   ],
   "source": [
    "print(x)"
   ]
  },
  {
   "cell_type": "code",
   "execution_count": 5,
   "id": "b046c62f-576d-4ed0-ad55-08d1bf5bfa4d",
   "metadata": {},
   "outputs": [
    {
     "data": {
      "text/plain": [
       "int"
      ]
     },
     "execution_count": 5,
     "metadata": {},
     "output_type": "execute_result"
    }
   ],
   "source": [
    "# untuk mencari tahu apa tipe variable \n",
    "type(x)"
   ]
  },
  {
   "cell_type": "markdown",
   "id": "ca476837-b514-4752-9f99-abd8b1173b51",
   "metadata": {},
   "source": [
    "---"
   ]
  },
  {
   "cell_type": "code",
   "execution_count": 8,
   "id": "1fddbd80-7a5a-47e8-9117-28e30236e633",
   "metadata": {},
   "outputs": [],
   "source": [
    "# floating point data types\n",
    "y = 2.5"
   ]
  },
  {
   "cell_type": "code",
   "execution_count": 10,
   "id": "f5a56c80-5294-4124-b059-c719b81d60b4",
   "metadata": {},
   "outputs": [
    {
     "data": {
      "text/plain": [
       "2.5"
      ]
     },
     "execution_count": 10,
     "metadata": {},
     "output_type": "execute_result"
    }
   ],
   "source": [
    "y"
   ]
  },
  {
   "cell_type": "code",
   "execution_count": 12,
   "id": "e42ab2d4-c9dc-4478-80c2-b39a89a0a94a",
   "metadata": {},
   "outputs": [
    {
     "data": {
      "text/plain": [
       "float"
      ]
     },
     "execution_count": 12,
     "metadata": {},
     "output_type": "execute_result"
    }
   ],
   "source": [
    "type(y)"
   ]
  },
  {
   "cell_type": "markdown",
   "id": "915b0388-0874-4bff-8354-209db602e25c",
   "metadata": {},
   "source": [
    "---"
   ]
  },
  {
   "cell_type": "code",
   "execution_count": 15,
   "id": "28484105-5624-4da9-a937-9a0c5fe4524b",
   "metadata": {},
   "outputs": [],
   "source": [
    "# string\n",
    "a = 'hello'"
   ]
  },
  {
   "cell_type": "code",
   "execution_count": 17,
   "id": "2cd52538-af61-4837-b5d8-aa434cf720aa",
   "metadata": {},
   "outputs": [
    {
     "data": {
      "text/plain": [
       "'hello'"
      ]
     },
     "execution_count": 17,
     "metadata": {},
     "output_type": "execute_result"
    }
   ],
   "source": [
    "a"
   ]
  },
  {
   "cell_type": "code",
   "execution_count": 19,
   "id": "d13aaa22-9e28-4777-b532-298bf11d25c0",
   "metadata": {},
   "outputs": [
    {
     "data": {
      "text/plain": [
       "str"
      ]
     },
     "execution_count": 19,
     "metadata": {},
     "output_type": "execute_result"
    }
   ],
   "source": [
    "type(a)"
   ]
  },
  {
   "cell_type": "code",
   "execution_count": null,
   "id": "0c86c055-8a8d-423a-9afc-ee0bdf6af700",
   "metadata": {},
   "outputs": [],
   "source": [
    "## penggunaan kutip dua dan satu sama "
   ]
  },
  {
   "cell_type": "markdown",
   "id": "8d521937-f22f-4fc4-8c3a-630bc5ddedf3",
   "metadata": {},
   "source": [
    "---"
   ]
  },
  {
   "cell_type": "code",
   "execution_count": 24,
   "id": "1371ed47-25b7-43a0-b136-e901624a549f",
   "metadata": {},
   "outputs": [],
   "source": [
    "#logical/boolean\n",
    "b = True"
   ]
  },
  {
   "cell_type": "code",
   "execution_count": 26,
   "id": "f90563fd-0ef6-4c41-8000-12abc1cbe37a",
   "metadata": {},
   "outputs": [
    {
     "data": {
      "text/plain": [
       "True"
      ]
     },
     "execution_count": 26,
     "metadata": {},
     "output_type": "execute_result"
    }
   ],
   "source": [
    "b"
   ]
  },
  {
   "cell_type": "code",
   "execution_count": 28,
   "id": "e6c7d956-e958-43e3-9d98-672a137763ae",
   "metadata": {},
   "outputs": [
    {
     "data": {
      "text/plain": [
       "bool"
      ]
     },
     "execution_count": 28,
     "metadata": {},
     "output_type": "execute_result"
    }
   ],
   "source": [
    "type(b)"
   ]
  },
  {
   "cell_type": "markdown",
   "id": "d70794aa-4a66-4c56-a434-5b538c66fc77",
   "metadata": {},
   "source": [
    "---"
   ]
  },
  {
   "cell_type": "code",
   "execution_count": null,
   "id": "d3150f3c-daae-4f1a-a310-70b33066799d",
   "metadata": {},
   "outputs": [],
   "source": []
  }
 ],
 "metadata": {
  "kernelspec": {
   "display_name": "Python 3 (ipykernel)",
   "language": "python",
   "name": "python3"
  },
  "language_info": {
   "codemirror_mode": {
    "name": "ipython",
    "version": 3
   },
   "file_extension": ".py",
   "mimetype": "text/x-python",
   "name": "python",
   "nbconvert_exporter": "python",
   "pygments_lexer": "ipython3",
   "version": "3.12.4"
  }
 },
 "nbformat": 4,
 "nbformat_minor": 5
}
