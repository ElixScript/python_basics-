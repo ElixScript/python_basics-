{
 "cells": [
  {
   "cell_type": "markdown",
   "id": "d8a3b507-6957-4699-87ad-1f6163a1a8ab",
   "metadata": {},
   "source": [
    "# if statement"
   ]
  },
  {
   "cell_type": "markdown",
   "id": "799ceb89-4380-429b-ace2-4542d3a57066",
   "metadata": {},
   "source": [
    "Pernyataan `if` dalam Python digunakan untuk menjalankan blok kode tertentu hanya jika suatu kondisi terpenuhi. Ini adalah cara dasar untuk membuat keputusan dalam kode Anda. Sintaks dasar untuk pernyataan `if` adalah sebagai berikut:\r\n",
    "\r\n",
    "```python\r\n",
    "if kondisi:\r\n",
    "    # blok kode yang dijalankan jika kondisi benar\r\n",
    "```\r\n",
    "\r\n",
    "Mari kita lihat beberapa contoh:\r\n",
    "\r\n",
    "### Contoh 1: If Sederhana\r\n",
    "```python\r\n",
    "x = 10\r\n",
    "if x > 5:\r\n",
    "    print(\"x lebih besar dari 5\")\r\n",
    "```\r\n",
    "Dalam contoh ini, jika nilai `x` lebih besar dari 5, maka pesan \"x lebih besar dari 5\" akan dicetak ke layar.\r\n",
    "\r\n",
    "### Contoh 2: If-Else\r\n",
    "Pernyataan `if` juga bisa diikuti oleh `else` untuk menangani kasus di mana kondisi `if` tidak terpenuhi.\r\n",
    "\r\n",
    "```python\r\n",
    "x = 3\r\n",
    "if x > 5:\r\n",
    "    print(\"x lebih besar dari 5\")\r\n",
    "else:\r\n",
    "    print(\"x tidak lebih besar dari 5\")\r\n",
    "```\r\n",
    "Jika nilai `x` tidak lebih besar dari 5, maka pesan \"x tidak lebih besar dari 5\" akan dicetak ke layar.\r\n",
    "\r\n",
    "### Contoh 3: If-Elif-Else\r\n",
    "Untuk memeriksa beberapa kondisi, Anda dapat menggunakan `elif` (singkatan dari \"else if\").\r\n",
    "\r\n",
    "```python\r\n",
    "x = 7\r\n",
    "if x > 10:\r\n",
    "    print(\"x lebih besar dari 10\")\r\n",
    "elif x > 5:\r\n",
    "    print(\"x lebih besar dari 5 tapi tidak lebih besar dari 10\")\r\n",
    "else:\r\n",
    "    print(\"x tidak lebih besar dari 5\")\r\n",
    "```\r\n",
    "Dalam contoh ini, Python akan memeriksa setiap kondisi secara berurutan. Jika satu kondisi terpenuhi, blok kode yang sesuai akan dijalankan dan sisanya akan dilewati.\r\n",
    "\r\n",
    "### Contoh 4: If Bersarang\r\n",
    "Anda juga bisa menempatkan pernyataan `if` di dalam pernyataan `if` lain, yang dikenal sebagai if bersarang.\r\n",
    "\r\n",
    "```python\r\n",
    "x = 10\r\n",
    "y = 20\r\n",
    "if x > 5:\r\n",
    "    if y > 15:\r\n",
    "        print(\"x lebih besar dari 5 dan y lebih besar dari 15\")\r\n",
    "```\r\n",
    "Dalam contoh ini, pesan akan dicetak hanya jika kedua kondisi terpenuhi: `x` lebih besar dari 5 dan `y` lebih besar dari 15.\r\n",
    "\r\n",
    "### Contoh 5: Kondisi Kompleks\r\n",
    "Anda dapat menggabungkan beberapa kondisi menggunakan operator logika seperti `and`, `or`, dan `not`.\r\n",
    "\r\n",
    "```python\r\n",
    "x = 8\r\n",
    "y = 12\r\n",
    "if x > 5 and y < 15:\r\n",
    "    print(\"x lebih besar dari 5 dan y kurang dari 15\")\r\n",
    "```\r\n",
    "Pesan akan dicetak hanya jika kedua kondisi terpenuhi: `x` lebih besar dari 5 dan `y` kurang dari 15.\r\n",
    "\r\n",
    "### Kesimpulan\r\n",
    "Pernyataan `if` memungkinkan Anda membuat keputusan dalam kode Anda, menjalankan blok kode tertentu hanya ketika kondisi tertentu terpenuhi. Ini adalah salah satu konstruksi kontrol alur paling dasar dan penting dalam pemrograman."
   ]
  },
  {
   "cell_type": "code",
   "execution_count": 5,
   "id": "99ca2266-5196-4850-ad2e-2e3896fba200",
   "metadata": {},
   "outputs": [],
   "source": [
    "import numpy as np\n",
    "from numpy.random import randn"
   ]
  },
  {
   "cell_type": "code",
   "execution_count": 29,
   "id": "7ea2e365-4f8d-4df7-a973-3ca953d9c80c",
   "metadata": {},
   "outputs": [
    {
     "data": {
      "text/plain": [
       "1.4073512888003556"
      ]
     },
     "execution_count": 29,
     "metadata": {},
     "output_type": "execute_result"
    }
   ],
   "source": [
    "randn()"
   ]
  },
  {
   "cell_type": "code",
   "execution_count": 55,
   "id": "f95d5d15-22d2-4d09-ad20-1744967cb191",
   "metadata": {},
   "outputs": [
    {
     "name": "stdout",
     "output_type": "stream",
     "text": [
      "1.394640720966465\n",
      "greater than 1\n"
     ]
    }
   ],
   "source": [
    "answer = None\n",
    "x = randn()\n",
    "if x > 1 :\n",
    "    answer = 'greater than 1'\n",
    "print(x)\n",
    "print(answer)"
   ]
  },
  {
   "cell_type": "code",
   "execution_count": 57,
   "id": "c0a10f9c-dde2-46b9-8e01-d17cef5de936",
   "metadata": {},
   "outputs": [
    {
     "name": "stdout",
     "output_type": "stream",
     "text": [
      "-0.6364643448816435\n",
      "less than 1\n"
     ]
    }
   ],
   "source": [
    "answer = None\n",
    "x = randn()\n",
    "if x > 1 :\n",
    "    answer = 'greater than 1'\n",
    "else :\n",
    "    answer = 'less than 1'\n",
    "print(x)\n",
    "print(answer)"
   ]
  },
  {
   "cell_type": "code",
   "execution_count": 59,
   "id": "7f6829e2-315c-4ca1-8224-1d0061a4a09d",
   "metadata": {},
   "outputs": [
    {
     "name": "stdout",
     "output_type": "stream",
     "text": [
      "-0.21633916125740324\n",
      "between -1 and 1\n"
     ]
    }
   ],
   "source": [
    "answer = None\n",
    "x = randn()\n",
    "if x > 1 :\n",
    "    answer = 'greater than 1'\n",
    "else :\n",
    "    if x >= -1 :\n",
    "        answer = 'between -1 and 1'\n",
    "    else :\n",
    "        answer = 'less than 1'\n",
    "print(x)\n",
    "print(answer)"
   ]
  },
  {
   "cell_type": "code",
   "execution_count": 65,
   "id": "257b251f-abd4-4e9f-8c5a-44f3fe798aea",
   "metadata": {},
   "outputs": [
    {
     "name": "stdout",
     "output_type": "stream",
     "text": [
      "x lebih besar dari 5 tapi tidak lebih besar dari 10\n",
      "8.382766751911008\n"
     ]
    }
   ],
   "source": [
    "x = randn()+7\n",
    "if x > 10:\n",
    "    print(\"x lebih besar dari 10\")\n",
    "elif x > 5:\n",
    "    print(\"x lebih besar dari 5 tapi tidak lebih besar dari 10\")\n",
    "else:\n",
    "    print(\"x tidak lebih besar dari 5\")\n",
    "\n",
    "print(x)"
   ]
  },
  {
   "cell_type": "code",
   "execution_count": null,
   "id": "b7b6b637-991d-425b-8d15-c4818ab0c33f",
   "metadata": {},
   "outputs": [],
   "source": []
  }
 ],
 "metadata": {
  "kernelspec": {
   "display_name": "Python 3 (ipykernel)",
   "language": "python",
   "name": "python3"
  },
  "language_info": {
   "codemirror_mode": {
    "name": "ipython",
    "version": 3
   },
   "file_extension": ".py",
   "mimetype": "text/x-python",
   "name": "python",
   "nbconvert_exporter": "python",
   "pygments_lexer": "ipython3",
   "version": "3.12.4"
  }
 },
 "nbformat": 4,
 "nbformat_minor": 5
}
