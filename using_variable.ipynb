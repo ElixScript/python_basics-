{
 "cells": [
  {
   "cell_type": "code",
   "execution_count": 1,
   "id": "f04f9376-4951-4d18-b567-60109820ec32",
   "metadata": {},
   "outputs": [],
   "source": [
    "a = 10"
   ]
  },
  {
   "cell_type": "code",
   "execution_count": 3,
   "id": "0e0eb13f-8bd2-4b92-9720-858514429a13",
   "metadata": {},
   "outputs": [],
   "source": [
    "b = 5"
   ]
  },
  {
   "cell_type": "code",
   "execution_count": 5,
   "id": "7b17f020-6f64-4393-be6c-c96503c43be5",
   "metadata": {},
   "outputs": [],
   "source": [
    "#penjumlahan\n",
    "c = a+b"
   ]
  },
  {
   "cell_type": "code",
   "execution_count": 7,
   "id": "5ffe1e81-ba42-4876-8b1f-d1712708672e",
   "metadata": {},
   "outputs": [
    {
     "data": {
      "text/plain": [
       "15"
      ]
     },
     "execution_count": 7,
     "metadata": {},
     "output_type": "execute_result"
    }
   ],
   "source": [
    "c"
   ]
  },
  {
   "cell_type": "code",
   "execution_count": 9,
   "id": "4fc8428f-9781-46ae-a52d-79028fcb33a0",
   "metadata": {},
   "outputs": [],
   "source": [
    "#pembagian\n",
    "d = a/b"
   ]
  },
  {
   "cell_type": "code",
   "execution_count": 11,
   "id": "033d05f9-60fa-48e2-b048-6685daa5c570",
   "metadata": {},
   "outputs": [
    {
     "data": {
      "text/plain": [
       "2.0"
      ]
     },
     "execution_count": 11,
     "metadata": {},
     "output_type": "execute_result"
    }
   ],
   "source": [
    "d"
   ]
  },
  {
   "cell_type": "code",
   "execution_count": 13,
   "id": "8ef414f4-96ea-4e76-92ee-5097ed8824cc",
   "metadata": {},
   "outputs": [
    {
     "data": {
      "text/plain": [
       "2.0"
      ]
     },
     "execution_count": 13,
     "metadata": {},
     "output_type": "execute_result"
    }
   ],
   "source": [
    "# lebih baik menggunakan print\n",
    "c\n",
    "d"
   ]
  },
  {
   "cell_type": "markdown",
   "id": "e7e32478-2d2d-4721-a105-09c1a384efcb",
   "metadata": {},
   "source": [
    "---"
   ]
  },
  {
   "cell_type": "code",
   "execution_count": 18,
   "id": "6b81694c-32f0-4b41-b1cf-7460085bf380",
   "metadata": {},
   "outputs": [],
   "source": [
    "# untuk menggunakan akar harus import library \n",
    "import math"
   ]
  },
  {
   "cell_type": "code",
   "execution_count": 20,
   "id": "2a028349-ee85-44ab-adc5-c39011d50a6d",
   "metadata": {},
   "outputs": [
    {
     "data": {
      "text/plain": [
       "3.1622776601683795"
      ]
     },
     "execution_count": 20,
     "metadata": {},
     "output_type": "execute_result"
    }
   ],
   "source": [
    "math.sqrt(a)"
   ]
  },
  {
   "cell_type": "code",
   "execution_count": 22,
   "id": "fef204c1-91a1-47f4-b3b1-12016ea53922",
   "metadata": {},
   "outputs": [
    {
     "data": {
      "text/plain": [
       "3"
      ]
     },
     "execution_count": 22,
     "metadata": {},
     "output_type": "execute_result"
    }
   ],
   "source": [
    "# kayak fungsi floor ?\n",
    "round(math.sqrt(a))"
   ]
  },
  {
   "cell_type": "markdown",
   "id": "557b4d5a-270b-473a-adcf-19cc64308a8f",
   "metadata": {},
   "source": [
    "---"
   ]
  },
  {
   "cell_type": "code",
   "execution_count": 27,
   "id": "ff679b18-bf31-41a5-97b1-331cf315b764",
   "metadata": {},
   "outputs": [
    {
     "name": "stdout",
     "output_type": "stream",
     "text": [
      "good morning bagus\n"
     ]
    }
   ],
   "source": [
    "# menggabungkan dua string \n",
    "x = 'good morning'\n",
    "y = 'bagus'\n",
    "\n",
    "print(x+' '+y)"
   ]
  },
  {
   "cell_type": "code",
   "execution_count": null,
   "id": "bb1b8b90-d822-42fc-8bcd-38ee2d25d197",
   "metadata": {},
   "outputs": [],
   "source": []
  }
 ],
 "metadata": {
  "kernelspec": {
   "display_name": "Python 3 (ipykernel)",
   "language": "python",
   "name": "python3"
  },
  "language_info": {
   "codemirror_mode": {
    "name": "ipython",
    "version": 3
   },
   "file_extension": ".py",
   "mimetype": "text/x-python",
   "name": "python",
   "nbconvert_exporter": "python",
   "pygments_lexer": "ipython3",
   "version": "3.12.4"
  }
 },
 "nbformat": 4,
 "nbformat_minor": 5
}
