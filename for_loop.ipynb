{
 "cells": [
  {
   "cell_type": "markdown",
   "id": "2f6447f1-1db7-47b4-a88c-2509b9f7295e",
   "metadata": {},
   "source": [
    "# for loop "
   ]
  },
  {
   "cell_type": "markdown",
   "id": "c0dff68f-fc25-4e4a-a305-794dcba13802",
   "metadata": {},
   "source": [
    "`for` loop dalam Python adalah salah satu struktur kontrol yang digunakan untuk mengulangi sejumlah instruksi dalam sebuah urutan (seperti list, tuple, dictionary, set, atau string). `for` loop akan iterasi melalui setiap item dalam urutan tersebut dan menjalankan blok kode yang ada di dalamnya.\r\n",
    "\r\n",
    "Berikut adalah sintaks dasar dari `for` loop dalam Python:\r\n",
    "\r\n",
    "```python\r\n",
    "for item in iterable:\r\n",
    "    # Blok kode yang akan diulang\r\n",
    "    print(item)\r\n",
    "```\r\n",
    "\r\n",
    "Di sini, `item` adalah variabel sementara yang mengambil nilai dari setiap elemen dalam `iterable` pada setiap iterasi.\r\n",
    "\r\n",
    "### Contoh 1: Iterasi melalui sebuah list\r\n",
    "\r\n",
    "```python\r\n",
    "fruits = [\"apple\", \"banana\", \"cherry\"]\r\n",
    "for fruit in fruits:\r\n",
    "    print(fruit)\r\n",
    "```\r\n",
    "\r\n",
    "Output:\r\n",
    "```\r\n",
    "apple\r\n",
    "banana\r\n",
    "cherry\r\n",
    "```\r\n",
    "\r\n",
    "### Contoh 2: Iterasi melalui sebuah string\r\n",
    "\r\n",
    "```python\r\n",
    "for char in \"hello\":\r\n",
    "    print(char)\r\n",
    "```\r\n",
    "\r\n",
    "Output:\r\n",
    "```\r\n",
    "h\r\n",
    "e\r\n",
    "l\r\n",
    "l\r\n",
    "o\r\n",
    "```\r\n",
    "\r\n",
    "### Contoh 3: Menggunakan `range()`\r\n",
    "\r\n",
    "`range()` adalah fungsi built-in yang sering digunakan dengan `for` loop untuk menghasilkan sebuah urutan angka.\r\n",
    "\r\n",
    "```python\r\n",
    "for i in range(5):\r\n",
    "    print(i)\r\n",
    "```\r\n",
    "\r\n",
    "Output:\r\n",
    "```\r\n",
    "0\r\n",
    "1\r\n",
    "2\r\n",
    "3\r\n",
    "4\r\n",
    "```\r\n",
    "\r\n",
    "Fungsi `range()` juga bisa menerima dua atau tiga argumen: `range(start, stop[, step])`.\r\n",
    "\r\n",
    "```python\r\n",
    "for i in range(2, 10, 2):\r\n",
    "    print(i)\r\n",
    "```\r\n",
    "\r\n",
    "Output:\r\n",
    "```\r\n",
    "2\r\n",
    "4\r\n",
    "6\r\n",
    "8\r\n",
    "```\r\n",
    "\r\n",
    "### Contoh 4: Iterasi melalui sebuah dictionary\r\n",
    "\r\n",
    "```python\r\n",
    "person = {\"name\": \"Alice\", \"age\": 25, \"city\": \"New York\"}\r\n",
    "for key, value in person.items():\r\n",
    "    print(f\"{key}: {value}\")\r\n",
    "```\r\n",
    "\r\n",
    "Output:\r\n",
    "```\r\n",
    "name: Alice\r\n",
    "age: 25\r\n",
    "city: New York\r\n",
    "```\r\n",
    "\r\n",
    "### Contoh 5: Nested `for` loop\r\n",
    "\r\n",
    "`for` loop juga dapat dinest atau di dalam `for` loop lainnya.\r\n",
    "\r\n",
    "```python\r\n",
    "matrix = [\r\n",
    "    [1, 2, 3],\r\n",
    "    [4, 5, 6],\r\n",
    "    [7, 8, 9]\r\n",
    "]\r\n",
    "\r\n",
    "for row in matrix:\r\n",
    "    for num in rowbagai jenis urutan. Dengan memahami cara kerjanya, Anda dapat menulis kode yang lebih efisien dan lebih mudah dibaca."
   ]
  },
  {
   "cell_type": "markdown",
   "id": "369b060a-b6c5-4b86-937f-afcc5c0cb970",
   "metadata": {},
   "source": [
    "---"
   ]
  },
  {
   "cell_type": "code",
   "execution_count": 7,
   "id": "bf29d91e-84c5-4e45-b7c7-4ecb6614334f",
   "metadata": {},
   "outputs": [
    {
     "name": "stdout",
     "output_type": "stream",
     "text": [
      "hello bagus\n",
      "hello bagus\n",
      "hello bagus\n",
      "hello bagus\n",
      "hello bagus\n"
     ]
    }
   ],
   "source": [
    "for i in range(5) :\n",
    "    print('hello bagus')"
   ]
  },
  {
   "cell_type": "code",
   "execution_count": 9,
   "id": "2b0cc00f-639c-459e-a89a-791a0d7c2bab",
   "metadata": {},
   "outputs": [
    {
     "data": {
      "text/plain": [
       "range(0, 5)"
      ]
     },
     "execution_count": 9,
     "metadata": {},
     "output_type": "execute_result"
    }
   ],
   "source": [
    "range(5)"
   ]
  },
  {
   "cell_type": "code",
   "execution_count": 11,
   "id": "a56116fd-8da5-422d-a8d2-ed39302a85ad",
   "metadata": {},
   "outputs": [
    {
     "data": {
      "text/plain": [
       "[0, 1, 2, 3, 4]"
      ]
     },
     "execution_count": 11,
     "metadata": {},
     "output_type": "execute_result"
    }
   ],
   "source": [
    "list(range(0,5))"
   ]
  },
  {
   "cell_type": "markdown",
   "id": "58031186-cef3-4d35-94de-6cbebbc36163",
   "metadata": {},
   "source": [
    "---"
   ]
  },
  {
   "cell_type": "code",
   "execution_count": 20,
   "id": "5cbcee47-647e-4644-a246-809c7b62823c",
   "metadata": {},
   "outputs": [
    {
     "name": "stdout",
     "output_type": "stream",
     "text": [
      "hello bagus  1\n",
      "hello bagus  2\n",
      "hello bagus  3\n",
      "hello bagus  4\n",
      "hello bagus  5\n"
     ]
    }
   ],
   "source": [
    "for i in range(5) :\n",
    "    print('hello bagus ',i+1)"
   ]
  },
  {
   "cell_type": "code",
   "execution_count": 22,
   "id": "99f77c3d-0ce1-4640-9741-d3cd5daec208",
   "metadata": {},
   "outputs": [],
   "source": [
    "mylist = [10,100,1000]"
   ]
  },
  {
   "cell_type": "code",
   "execution_count": 24,
   "id": "75963491-bd17-4941-8104-35609514ef10",
   "metadata": {},
   "outputs": [
    {
     "name": "stdout",
     "output_type": "stream",
     "text": [
      "hello  10\n",
      "hello  100\n",
      "hello  1000\n"
     ]
    }
   ],
   "source": [
    "for i in mylist :\n",
    "    print('hello ',i)"
   ]
  },
  {
   "cell_type": "code",
   "execution_count": null,
   "id": "e2d11099-889f-48b4-92bc-8fe0f26fa9ec",
   "metadata": {},
   "outputs": [],
   "source": []
  }
 ],
 "metadata": {
  "kernelspec": {
   "display_name": "Python 3 (ipykernel)",
   "language": "python",
   "name": "python3"
  },
  "language_info": {
   "codemirror_mode": {
    "name": "ipython",
    "version": 3
   },
   "file_extension": ".py",
   "mimetype": "text/x-python",
   "name": "python",
   "nbconvert_exporter": "python",
   "pygments_lexer": "ipython3",
   "version": "3.12.4"
  }
 },
 "nbformat": 4,
 "nbformat_minor": 5
}
