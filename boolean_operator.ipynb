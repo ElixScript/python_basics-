{
 "cells": [
  {
   "cell_type": "code",
   "execution_count": 1,
   "id": "fde82355-0ad6-401c-ad76-63287d5d913b",
   "metadata": {},
   "outputs": [],
   "source": [
    "# boolean / logical"
   ]
  },
  {
   "cell_type": "code",
   "execution_count": 3,
   "id": "cfaafaba-27ae-426c-bd9b-edaf7c04aaf4",
   "metadata": {},
   "outputs": [
    {
     "data": {
      "text/plain": [
       "True"
      ]
     },
     "execution_count": 3,
     "metadata": {},
     "output_type": "execute_result"
    }
   ],
   "source": [
    "4<5"
   ]
  },
  {
   "cell_type": "code",
   "execution_count": 8,
   "id": "4f6b97b8-bff3-47e0-ba91-dd0e78ac1ad1",
   "metadata": {},
   "outputs": [
    {
     "data": {
      "text/plain": [
       "False"
      ]
     },
     "execution_count": 8,
     "metadata": {},
     "output_type": "execute_result"
    }
   ],
   "source": [
    "10>100"
   ]
  },
  {
   "cell_type": "code",
   "execution_count": 10,
   "id": "d85a45ea-70ea-44fc-9fdb-308bd9fa8704",
   "metadata": {},
   "outputs": [
    {
     "data": {
      "text/plain": [
       "False"
      ]
     },
     "execution_count": 10,
     "metadata": {},
     "output_type": "execute_result"
    }
   ],
   "source": [
    "4==5"
   ]
  },
  {
   "cell_type": "markdown",
   "id": "fc19c983-0fd6-4be3-8921-eea1cc2fb468",
   "metadata": {},
   "source": [
    "---"
   ]
  },
  {
   "cell_type": "markdown",
   "id": "9cb32dd6-b260-4e92-9f52-8e29ecb1c2a6",
   "metadata": {},
   "source": [
    "Operator boolean adalah operator yang digunakan untuk mengoperasikan nilai-nilai boolean (`True` atau `False`). Dalam banyak bahasa pemrograman, termasuk Python, ada beberapa tipe operator boolean utama. Berikut adalah penjelasan tentang operator-operator boolean tersebut:\r\n",
    "\r\n",
    "### 1. **AND (`and`)**\r\n",
    "Operator `and` akan menghasilkan `True` jika kedua operand bernilai `True`. Jika salah satu operand atau keduanya `False`, hasilnya adalah `Falsepython\r\n",
    "a = True\r\n",
    "b = False\r\n",
    "result = a and b  # result akan bernilai False\r\n",
    "```\r\n",
    "\r\n",
    "### 2. **OR (`or`)**\r\n",
    "Operator `or` akan menghasilkan `True` jika salah satu operand atau keduanya bernilai `True`. Hasilnya hanya `False` jika kedua operand bernithon:\r\n",
    "```python\r\n",
    "a = True\r\n",
    "b = False\r\n",
    "result = a or b  # result akan bernilai True\r\n",
    "```\r\n",
    "\r\n",
    "### 3. **NOT (`not`)**\r\n",
    "Operator `not` adalah operator unary yang membalik nilai operand. Jika operand adalah `True`, hasilnya adalah `Fh dalam Python:\r\n",
    "```python\r\n",
    "a = True\r\n",
    "result = not a  # result akan bernilai False\r\n",
    "```\r\n",
    "\r\n",
    "### 4. **XOR (Exclusive OR)**\r\n",
    "Beberapa bahasa pemrograman memiliki operator XOR. XOR akan menghasilkan `True` jika salah satu operand bernilai `True` dan yang lainnya `False`. Jika kedua operand bernilai sama, hasilnya adalah `False`.\r\n",
    "\r\n",
    "Python tidak memiliki operator XOR boolean secara langsung, tetapi bisa menggunakan operator bitwise XOR (`^`) pada nilai boolean atau menoperasi logika gabungan:\r\n",
    "```python\r\n",
    "a = True\r\n",
    "b = False\r\n",
    "result = a ^ b  # result akan bernilai True\r\n",
    "\r\n",
    "# Alternatif dengan operasi logika gabungan\r\n",
    "result = (a or b) and not (an semua operator boolean di Python:\r\n",
    "```python\r\n",
    "a = True\r\n",
    "b = False\r\n",
    "\r\n",
    "and_result = a and b  # False\r\n",
    "or_result = a or b    # True\r\n",
    "not_result = not a    # False\r\n",
    "xor_result = a ^ b    # True (bitwise XOR juga bisa digunakan pada boolean)\r\n",
    "```\r\n",
    "\r\n",
    "Operator boolean sangat berguna dalam kontrol alur program, seperti dalam pernyataan `if`, loop, dan pernyataan logika kompleks lainnya."
   ]
  },
  {
   "cell_type": "markdown",
   "id": "68d70aba-76be-49a2-bc29-d935b1b8afd8",
   "metadata": {},
   "source": [
    "---"
   ]
  },
  {
   "cell_type": "code",
   "execution_count": 13,
   "id": "12cfc372-3908-4fd1-b89b-12019f0f6c68",
   "metadata": {},
   "outputs": [],
   "source": [
    "result = 4<5"
   ]
  },
  {
   "cell_type": "code",
   "execution_count": 15,
   "id": "808e3ca9-9e1e-4ff2-9b3c-3992e4a360c6",
   "metadata": {},
   "outputs": [
    {
     "data": {
      "text/plain": [
       "True"
      ]
     },
     "execution_count": 15,
     "metadata": {},
     "output_type": "execute_result"
    }
   ],
   "source": [
    "result"
   ]
  },
  {
   "cell_type": "code",
   "execution_count": 17,
   "id": "6fa5151b-5414-4807-a97e-9d6aaf9d2c54",
   "metadata": {},
   "outputs": [
    {
     "data": {
      "text/plain": [
       "bool"
      ]
     },
     "execution_count": 17,
     "metadata": {},
     "output_type": "execute_result"
    }
   ],
   "source": [
    "type(result)"
   ]
  },
  {
   "cell_type": "code",
   "execution_count": 19,
   "id": "ba9f7535-d874-4927-b8b3-9c41946422a0",
   "metadata": {},
   "outputs": [],
   "source": [
    "result2 = not(5>1)"
   ]
  },
  {
   "cell_type": "code",
   "execution_count": 21,
   "id": "9236e386-3d16-4d84-ab23-66547ad89dcd",
   "metadata": {},
   "outputs": [
    {
     "data": {
      "text/plain": [
       "False"
      ]
     },
     "execution_count": 21,
     "metadata": {},
     "output_type": "execute_result"
    }
   ],
   "source": [
    "result2"
   ]
  },
  {
   "cell_type": "code",
   "execution_count": 23,
   "id": "76127505-dbf3-4f50-a0b7-94f18204891a",
   "metadata": {},
   "outputs": [
    {
     "data": {
      "text/plain": [
       "True"
      ]
     },
     "execution_count": 23,
     "metadata": {},
     "output_type": "execute_result"
    }
   ],
   "source": [
    "result or result2"
   ]
  },
  {
   "cell_type": "code",
   "execution_count": null,
   "id": "2e401eaa-3e6b-46b5-b485-ab5acb83c7bf",
   "metadata": {},
   "outputs": [],
   "source": []
  }
 ],
 "metadata": {
  "kernelspec": {
   "display_name": "Python 3 (ipykernel)",
   "language": "python",
   "name": "python3"
  },
  "language_info": {
   "codemirror_mode": {
    "name": "ipython",
    "version": 3
   },
   "file_extension": ".py",
   "mimetype": "text/x-python",
   "name": "python",
   "nbconvert_exporter": "python",
   "pygments_lexer": "ipython3",
   "version": "3.12.4"
  }
 },
 "nbformat": 4,
 "nbformat_minor": 5
}
